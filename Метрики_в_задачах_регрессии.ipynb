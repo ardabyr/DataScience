{
  "nbformat": 4,
  "nbformat_minor": 0,
  "metadata": {
    "colab": {
      "provenance": [],
      "include_colab_link": true
    },
    "kernelspec": {
      "name": "python3",
      "display_name": "Python 3"
    },
    "language_info": {
      "name": "python"
    }
  },
  "cells": [
    {
      "cell_type": "markdown",
      "metadata": {
        "id": "view-in-github",
        "colab_type": "text"
      },
      "source": [
        "<a href=\"https://colab.research.google.com/github/ardabyr/DataScience/blob/main/%D0%9C%D0%B5%D1%82%D1%80%D0%B8%D0%BA%D0%B8_%D0%B2_%D0%B7%D0%B0%D0%B4%D0%B0%D1%87%D0%B0%D1%85_%D1%80%D0%B5%D0%B3%D1%80%D0%B5%D1%81%D1%81%D0%B8%D0%B8.ipynb\" target=\"_parent\"><img src=\"https://colab.research.google.com/assets/colab-badge.svg\" alt=\"Open In Colab\"/></a>"
      ]
    },
    {
      "cell_type": "markdown",
      "source": [
        "# **Индивидуальное задание**"
      ],
      "metadata": {
        "id": "gbat6cbenppn"
      }
    },
    {
      "cell_type": "markdown",
      "source": [
        "## **Вариант №4.**\n",
        "ecoli.csv"
      ],
      "metadata": {
        "id": "RMmPSj5FkkV_"
      }
    },
    {
      "cell_type": "markdown",
      "source": [
        "1. Выберите набор данных, подходящий для решения задачи регрессии (Например, из уже известной библиотеки [KEEL](https://sci2s.ugr.es/keel/category.php?cat=reg)). Разделите набор данных на обучающее, валидационное и тестовое множество в соотношении 80%/10%/10%.\n",
        "2. Выберите модель, подходящую для решения задачи регрессии. Обучите данную модель.\n",
        "3. Запрограммируйте функцию, которая будет вычислять метрику RMSE. Входные параметры - y_predicted (предсказанные значения), y (целевые значения). Выходной параметр - значение метрики RMSE.\n",
        "4. Запрограммируйте функцию, которая будет вычислять метрику MAE. Входные параметры - y_predicted (предсказанные значения), y (целевые значения). Выходной параметр - значение метрики MAE.\n",
        "5. Запрограммируйте функцию, которая будет вычислять метрику MAPE. Входные параметры - y_predicted (предсказанные значения), y (целевые значения). Выходной параметр - значение метрики MAPE.\n",
        "6. Запрограммируйте функцию, которая будет вычислять метрику WAPE. Входные параметры - y_predicted (предсказанные значения), y (целевые значения). Выходной параметр - значение метрики WAPE.\n",
        "7. Используйте функции, написанные в п. 3-6 для оценки метрик на тестовой выборке. Сравните значения метрик, полученных написанными вами функциями, со значениями, полученными библиотеками Python (ниже представлен импорт и пример их использования)."
      ],
      "metadata": {
        "id": "BDIeinW0n3tF"
      }
    },
    {
      "cell_type": "code",
      "source": [
        "# Строка для подключения репозитория\n",
        "!git lfs clone https://github.com/Mereep/keel_csv.git\n",
        "\n",
        "# Пример импорта конкретного датасета\n",
        "import pandas as pd\n",
        "data = pd.read_csv('keel_csv/standard_classification/unprocessed/ecoli.csv', sep=',')"
      ],
      "metadata": {
        "colab": {
          "base_uri": "https://localhost:8080/"
        },
        "id": "7KhpC5ouj_Oy",
        "outputId": "2ab880d9-8fd1-4363-91d0-eed67c66f684"
      },
      "execution_count": null,
      "outputs": [
        {
          "output_type": "stream",
          "name": "stdout",
          "text": [
            "WARNING: 'git lfs clone' is deprecated and will not be updated\n",
            "          with new flags from 'git clone'\n",
            "\n",
            "'git clone' has been updated in upstream Git to have comparable\n",
            "speeds to 'git lfs clone'.\n",
            "Cloning into 'keel_csv'...\n",
            "remote: Enumerating objects: 167, done.\u001b[K\n",
            "remote: Counting objects: 100% (167/167), done.\u001b[K\n",
            "remote: Compressing objects: 100% (164/164), done.\u001b[K\n",
            "remote: Total 167 (delta 4), reused 158 (delta 2), pack-reused 0\u001b[K\n",
            "Receiving objects: 100% (167/167), 36.32 KiB | 676.00 KiB/s, done.\n",
            "Resolving deltas: 100% (4/4), done.\n"
          ]
        }
      ]
    },
    {
      "cell_type": "markdown",
      "source": [
        "1. Выберите набор данных, подходящий для решения задачи регрессии (Например, из уже известной библиотеки KEEL). Разделите набор данных на обучающее, валидационное и тестовое множество в соотношении 80%/10%/10%."
      ],
      "metadata": {
        "id": "YXSWbTmemRQl"
      }
    },
    {
      "cell_type": "code",
      "source": [
        "import numpy as np\n",
        "import pandas as pd\n",
        "from sklearn.model_selection import train_test_split\n",
        "\n",
        "\n",
        "# делим набор данных на обучающее, валидационное и тестовое множества\n",
        "y = data['Mcg']\n",
        "\n",
        "X = data.drop(columns=['Mcg', \"Site\"])\n",
        "# разбиваем датасет на тренировочное и тестовое подмножество с соотношением 8:2\n",
        "X_train, X_test, y_train, y_test = train_test_split(X, y, test_size=0.2, random_state=42)\n",
        "\n",
        "# разбиваем тестовое подмножество на валидационное и тестовое подмножество с соотношением 1:1\n",
        "X_test, X_val, y_test, y_val = train_test_split(X_test, y_test, test_size=0.5)"
      ],
      "metadata": {
        "id": "bo476NpVmU8t"
      },
      "execution_count": null,
      "outputs": []
    },
    {
      "cell_type": "code",
      "source": [
        "X.head(3)"
      ],
      "metadata": {
        "colab": {
          "base_uri": "https://localhost:8080/",
          "height": 143
        },
        "id": "Jjno_7VzoUF9",
        "outputId": "3edaa2ca-03af-43b4-d987-c7f340daf430"
      },
      "execution_count": null,
      "outputs": [
        {
          "output_type": "execute_result",
          "data": {
            "text/plain": [
              "    Gvh   Lip  Chg   Aac  Alm1  Alm2\n",
              "0  29.0  48.0  5.0  56.0  24.0  35.0\n",
              "1   4.0  48.0  5.0  54.0  35.0  44.0\n",
              "2   4.0  48.0  5.0  49.0  37.0  46.0"
            ],
            "text/html": [
              "\n",
              "  <div id=\"df-36154dce-fab2-4348-b346-2fe11aac948b\" class=\"colab-df-container\">\n",
              "    <div>\n",
              "<style scoped>\n",
              "    .dataframe tbody tr th:only-of-type {\n",
              "        vertical-align: middle;\n",
              "    }\n",
              "\n",
              "    .dataframe tbody tr th {\n",
              "        vertical-align: top;\n",
              "    }\n",
              "\n",
              "    .dataframe thead th {\n",
              "        text-align: right;\n",
              "    }\n",
              "</style>\n",
              "<table border=\"1\" class=\"dataframe\">\n",
              "  <thead>\n",
              "    <tr style=\"text-align: right;\">\n",
              "      <th></th>\n",
              "      <th>Gvh</th>\n",
              "      <th>Lip</th>\n",
              "      <th>Chg</th>\n",
              "      <th>Aac</th>\n",
              "      <th>Alm1</th>\n",
              "      <th>Alm2</th>\n",
              "    </tr>\n",
              "  </thead>\n",
              "  <tbody>\n",
              "    <tr>\n",
              "      <th>0</th>\n",
              "      <td>29.0</td>\n",
              "      <td>48.0</td>\n",
              "      <td>5.0</td>\n",
              "      <td>56.0</td>\n",
              "      <td>24.0</td>\n",
              "      <td>35.0</td>\n",
              "    </tr>\n",
              "    <tr>\n",
              "      <th>1</th>\n",
              "      <td>4.0</td>\n",
              "      <td>48.0</td>\n",
              "      <td>5.0</td>\n",
              "      <td>54.0</td>\n",
              "      <td>35.0</td>\n",
              "      <td>44.0</td>\n",
              "    </tr>\n",
              "    <tr>\n",
              "      <th>2</th>\n",
              "      <td>4.0</td>\n",
              "      <td>48.0</td>\n",
              "      <td>5.0</td>\n",
              "      <td>49.0</td>\n",
              "      <td>37.0</td>\n",
              "      <td>46.0</td>\n",
              "    </tr>\n",
              "  </tbody>\n",
              "</table>\n",
              "</div>\n",
              "    <div class=\"colab-df-buttons\">\n",
              "\n",
              "  <div class=\"colab-df-container\">\n",
              "    <button class=\"colab-df-convert\" onclick=\"convertToInteractive('df-36154dce-fab2-4348-b346-2fe11aac948b')\"\n",
              "            title=\"Convert this dataframe to an interactive table.\"\n",
              "            style=\"display:none;\">\n",
              "\n",
              "  <svg xmlns=\"http://www.w3.org/2000/svg\" height=\"24px\" viewBox=\"0 -960 960 960\">\n",
              "    <path d=\"M120-120v-720h720v720H120Zm60-500h600v-160H180v160Zm220 220h160v-160H400v160Zm0 220h160v-160H400v160ZM180-400h160v-160H180v160Zm440 0h160v-160H620v160ZM180-180h160v-160H180v160Zm440 0h160v-160H620v160Z\"/>\n",
              "  </svg>\n",
              "    </button>\n",
              "\n",
              "  <style>\n",
              "    .colab-df-container {\n",
              "      display:flex;\n",
              "      gap: 12px;\n",
              "    }\n",
              "\n",
              "    .colab-df-convert {\n",
              "      background-color: #E8F0FE;\n",
              "      border: none;\n",
              "      border-radius: 50%;\n",
              "      cursor: pointer;\n",
              "      display: none;\n",
              "      fill: #1967D2;\n",
              "      height: 32px;\n",
              "      padding: 0 0 0 0;\n",
              "      width: 32px;\n",
              "    }\n",
              "\n",
              "    .colab-df-convert:hover {\n",
              "      background-color: #E2EBFA;\n",
              "      box-shadow: 0px 1px 2px rgba(60, 64, 67, 0.3), 0px 1px 3px 1px rgba(60, 64, 67, 0.15);\n",
              "      fill: #174EA6;\n",
              "    }\n",
              "\n",
              "    .colab-df-buttons div {\n",
              "      margin-bottom: 4px;\n",
              "    }\n",
              "\n",
              "    [theme=dark] .colab-df-convert {\n",
              "      background-color: #3B4455;\n",
              "      fill: #D2E3FC;\n",
              "    }\n",
              "\n",
              "    [theme=dark] .colab-df-convert:hover {\n",
              "      background-color: #434B5C;\n",
              "      box-shadow: 0px 1px 3px 1px rgba(0, 0, 0, 0.15);\n",
              "      filter: drop-shadow(0px 1px 2px rgba(0, 0, 0, 0.3));\n",
              "      fill: #FFFFFF;\n",
              "    }\n",
              "  </style>\n",
              "\n",
              "    <script>\n",
              "      const buttonEl =\n",
              "        document.querySelector('#df-36154dce-fab2-4348-b346-2fe11aac948b button.colab-df-convert');\n",
              "      buttonEl.style.display =\n",
              "        google.colab.kernel.accessAllowed ? 'block' : 'none';\n",
              "\n",
              "      async function convertToInteractive(key) {\n",
              "        const element = document.querySelector('#df-36154dce-fab2-4348-b346-2fe11aac948b');\n",
              "        const dataTable =\n",
              "          await google.colab.kernel.invokeFunction('convertToInteractive',\n",
              "                                                    [key], {});\n",
              "        if (!dataTable) return;\n",
              "\n",
              "        const docLinkHtml = 'Like what you see? Visit the ' +\n",
              "          '<a target=\"_blank\" href=https://colab.research.google.com/notebooks/data_table.ipynb>data table notebook</a>'\n",
              "          + ' to learn more about interactive tables.';\n",
              "        element.innerHTML = '';\n",
              "        dataTable['output_type'] = 'display_data';\n",
              "        await google.colab.output.renderOutput(dataTable, element);\n",
              "        const docLink = document.createElement('div');\n",
              "        docLink.innerHTML = docLinkHtml;\n",
              "        element.appendChild(docLink);\n",
              "      }\n",
              "    </script>\n",
              "  </div>\n",
              "\n",
              "\n",
              "<div id=\"df-1cba99d9-739a-4898-8645-3e195791db5d\">\n",
              "  <button class=\"colab-df-quickchart\" onclick=\"quickchart('df-1cba99d9-739a-4898-8645-3e195791db5d')\"\n",
              "            title=\"Suggest charts\"\n",
              "            style=\"display:none;\">\n",
              "\n",
              "<svg xmlns=\"http://www.w3.org/2000/svg\" height=\"24px\"viewBox=\"0 0 24 24\"\n",
              "     width=\"24px\">\n",
              "    <g>\n",
              "        <path d=\"M19 3H5c-1.1 0-2 .9-2 2v14c0 1.1.9 2 2 2h14c1.1 0 2-.9 2-2V5c0-1.1-.9-2-2-2zM9 17H7v-7h2v7zm4 0h-2V7h2v10zm4 0h-2v-4h2v4z\"/>\n",
              "    </g>\n",
              "</svg>\n",
              "  </button>\n",
              "\n",
              "<style>\n",
              "  .colab-df-quickchart {\n",
              "      --bg-color: #E8F0FE;\n",
              "      --fill-color: #1967D2;\n",
              "      --hover-bg-color: #E2EBFA;\n",
              "      --hover-fill-color: #174EA6;\n",
              "      --disabled-fill-color: #AAA;\n",
              "      --disabled-bg-color: #DDD;\n",
              "  }\n",
              "\n",
              "  [theme=dark] .colab-df-quickchart {\n",
              "      --bg-color: #3B4455;\n",
              "      --fill-color: #D2E3FC;\n",
              "      --hover-bg-color: #434B5C;\n",
              "      --hover-fill-color: #FFFFFF;\n",
              "      --disabled-bg-color: #3B4455;\n",
              "      --disabled-fill-color: #666;\n",
              "  }\n",
              "\n",
              "  .colab-df-quickchart {\n",
              "    background-color: var(--bg-color);\n",
              "    border: none;\n",
              "    border-radius: 50%;\n",
              "    cursor: pointer;\n",
              "    display: none;\n",
              "    fill: var(--fill-color);\n",
              "    height: 32px;\n",
              "    padding: 0;\n",
              "    width: 32px;\n",
              "  }\n",
              "\n",
              "  .colab-df-quickchart:hover {\n",
              "    background-color: var(--hover-bg-color);\n",
              "    box-shadow: 0 1px 2px rgba(60, 64, 67, 0.3), 0 1px 3px 1px rgba(60, 64, 67, 0.15);\n",
              "    fill: var(--button-hover-fill-color);\n",
              "  }\n",
              "\n",
              "  .colab-df-quickchart-complete:disabled,\n",
              "  .colab-df-quickchart-complete:disabled:hover {\n",
              "    background-color: var(--disabled-bg-color);\n",
              "    fill: var(--disabled-fill-color);\n",
              "    box-shadow: none;\n",
              "  }\n",
              "\n",
              "  .colab-df-spinner {\n",
              "    border: 2px solid var(--fill-color);\n",
              "    border-color: transparent;\n",
              "    border-bottom-color: var(--fill-color);\n",
              "    animation:\n",
              "      spin 1s steps(1) infinite;\n",
              "  }\n",
              "\n",
              "  @keyframes spin {\n",
              "    0% {\n",
              "      border-color: transparent;\n",
              "      border-bottom-color: var(--fill-color);\n",
              "      border-left-color: var(--fill-color);\n",
              "    }\n",
              "    20% {\n",
              "      border-color: transparent;\n",
              "      border-left-color: var(--fill-color);\n",
              "      border-top-color: var(--fill-color);\n",
              "    }\n",
              "    30% {\n",
              "      border-color: transparent;\n",
              "      border-left-color: var(--fill-color);\n",
              "      border-top-color: var(--fill-color);\n",
              "      border-right-color: var(--fill-color);\n",
              "    }\n",
              "    40% {\n",
              "      border-color: transparent;\n",
              "      border-right-color: var(--fill-color);\n",
              "      border-top-color: var(--fill-color);\n",
              "    }\n",
              "    60% {\n",
              "      border-color: transparent;\n",
              "      border-right-color: var(--fill-color);\n",
              "    }\n",
              "    80% {\n",
              "      border-color: transparent;\n",
              "      border-right-color: var(--fill-color);\n",
              "      border-bottom-color: var(--fill-color);\n",
              "    }\n",
              "    90% {\n",
              "      border-color: transparent;\n",
              "      border-bottom-color: var(--fill-color);\n",
              "    }\n",
              "  }\n",
              "</style>\n",
              "\n",
              "  <script>\n",
              "    async function quickchart(key) {\n",
              "      const quickchartButtonEl =\n",
              "        document.querySelector('#' + key + ' button');\n",
              "      quickchartButtonEl.disabled = true;  // To prevent multiple clicks.\n",
              "      quickchartButtonEl.classList.add('colab-df-spinner');\n",
              "      try {\n",
              "        const charts = await google.colab.kernel.invokeFunction(\n",
              "            'suggestCharts', [key], {});\n",
              "      } catch (error) {\n",
              "        console.error('Error during call to suggestCharts:', error);\n",
              "      }\n",
              "      quickchartButtonEl.classList.remove('colab-df-spinner');\n",
              "      quickchartButtonEl.classList.add('colab-df-quickchart-complete');\n",
              "    }\n",
              "    (() => {\n",
              "      let quickchartButtonEl =\n",
              "        document.querySelector('#df-1cba99d9-739a-4898-8645-3e195791db5d button');\n",
              "      quickchartButtonEl.style.display =\n",
              "        google.colab.kernel.accessAllowed ? 'block' : 'none';\n",
              "    })();\n",
              "  </script>\n",
              "</div>\n",
              "    </div>\n",
              "  </div>\n"
            ],
            "application/vnd.google.colaboratory.intrinsic+json": {
              "type": "dataframe",
              "variable_name": "X",
              "summary": "{\n  \"name\": \"X\",\n  \"rows\": 336,\n  \"fields\": [\n    {\n      \"column\": \"Gvh\",\n      \"properties\": {\n        \"dtype\": \"number\",\n        \"std\": 19.67420410172283,\n        \"min\": 1.0,\n        \"max\": 88.0,\n        \"num_unique_values\": 63,\n        \"samples\": [\n          8.0,\n          72.0,\n          29.0\n        ],\n        \"semantic_type\": \"\",\n        \"description\": \"\"\n      }\n    },\n    {\n      \"column\": \"Lip\",\n      \"properties\": {\n        \"dtype\": \"number\",\n        \"std\": 7.998611731001324,\n        \"min\": 1.0,\n        \"max\": 48.0,\n        \"num_unique_values\": 2,\n        \"samples\": [\n          1.0,\n          48.0\n        ],\n        \"semantic_type\": \"\",\n        \"description\": \"\"\n      }\n    },\n    {\n      \"column\": \"Chg\",\n      \"properties\": {\n        \"dtype\": \"number\",\n        \"std\": 0.21821789023599236,\n        \"min\": 1.0,\n        \"max\": 5.0,\n        \"num_unique_values\": 2,\n        \"samples\": [\n          1.0,\n          5.0\n        ],\n        \"semantic_type\": \"\",\n        \"description\": \"\"\n      }\n    },\n    {\n      \"column\": \"Aac\",\n      \"properties\": {\n        \"dtype\": \"number\",\n        \"std\": 16.67237899620312,\n        \"min\": 0.0,\n        \"max\": 88.0,\n        \"num_unique_values\": 58,\n        \"samples\": [\n          56.0,\n          36.0\n        ],\n        \"semantic_type\": \"\",\n        \"description\": \"\"\n      }\n    },\n    {\n      \"column\": \"Alm1\",\n      \"properties\": {\n        \"dtype\": \"number\",\n        \"std\": 23.983130287340117,\n        \"min\": 1.0,\n        \"max\": 94.0,\n        \"num_unique_values\": 80,\n        \"samples\": [\n          55.0,\n          24.0\n        ],\n        \"semantic_type\": \"\",\n        \"description\": \"\"\n      }\n    },\n    {\n      \"column\": \"Alm2\",\n      \"properties\": {\n        \"dtype\": \"number\",\n        \"std\": 23.830355590044693,\n        \"min\": 0.0,\n        \"max\": 99.0,\n        \"num_unique_values\": 77,\n        \"samples\": [\n          34.0,\n          51.0\n        ],\n        \"semantic_type\": \"\",\n        \"description\": \"\"\n      }\n    }\n  ]\n}"
            }
          },
          "metadata": {},
          "execution_count": 4
        }
      ]
    },
    {
      "cell_type": "markdown",
      "source": [
        "2. Выберите модель, подходящую для решения задачи регрессии. Обучите данную модель.\n"
      ],
      "metadata": {
        "id": "JoNZcxn2mVl2"
      }
    },
    {
      "cell_type": "code",
      "source": [
        "from sklearn.ensemble import RandomForestRegressor\n",
        "\n",
        "# Создали и обучили модель\n",
        "model = RandomForestRegressor(random_state=42)\n",
        "model.fit(X_train, y_train)\n",
        "\n",
        "# функция оптимизации\n",
        "print(model.get_params()['criterion'])\n"
      ],
      "metadata": {
        "colab": {
          "base_uri": "https://localhost:8080/"
        },
        "id": "JGx_6Jj4mXn8",
        "outputId": "2d264bbf-abd4-4bb5-bfcc-d1fc8921ff16"
      },
      "execution_count": null,
      "outputs": [
        {
          "output_type": "stream",
          "name": "stdout",
          "text": [
            "squared_error\n"
          ]
        }
      ]
    },
    {
      "cell_type": "markdown",
      "source": [
        "3. Запрограммируйте функцию, которая будет вычислять метрику RMSE. Входные параметры - y_predicted (предсказанные значения), y (целевые значения). Выходной параметр - значение метрики RMSE.\n",
        "\n"
      ],
      "metadata": {
        "id": "_Th--E7SmX8F"
      }
    },
    {
      "cell_type": "code",
      "source": [
        "import numpy as np\n",
        "\n",
        "def rmse(y_predicted, y):\n",
        "#   # Вычисляем разницу между предсказанными и целевыми значениями\n",
        "#   errors = y_predicted - y\n",
        "\n",
        "#   # Возводим разницу в квадрат\n",
        "#   squared_errors = errors * 2\n",
        "\n",
        "#   # Считаем среднее значение квадратов ошибок\n",
        "#   mean_squared_error = np.mean(squared_errors)\n",
        "\n",
        "#   # Извлекаем корень из среднего квадрата ошибок\n",
        "#   rmse = np.sqrt(mean_squared_error)\n",
        "\n",
        "  return np.sqrt(np.mean((y_predicted - y) ** 2))\n"
      ],
      "metadata": {
        "id": "wDJkRmvZmaRX"
      },
      "execution_count": null,
      "outputs": []
    },
    {
      "cell_type": "markdown",
      "source": [
        "4. Запрограммируйте функцию, которая будет вычислять метрику MAE. Входные параметры - y_predicted (предсказанные значения), y (целевые значения). Выходной параметр - значение метрики MAE.\n",
        "\n"
      ],
      "metadata": {
        "id": "gdJ9nP0ZmafA"
      }
    },
    {
      "cell_type": "code",
      "source": [
        "import numpy as np\n",
        "\n",
        "def mae(y_predicted, y):\n",
        "  errors = np.abs(y_predicted - y)\n",
        "  mae = np.mean(errors)\n",
        "\n",
        "  return mae"
      ],
      "metadata": {
        "id": "cVgB5gw4mc_P"
      },
      "execution_count": null,
      "outputs": []
    },
    {
      "cell_type": "markdown",
      "source": [
        "5. Запрограммируйте функцию, которая будет вычислять метрику MAPE. Входные параметры - y_predicted (предсказанные значения), y (целевые значения). Выходной параметр - значение метрики MAPE.\n"
      ],
      "metadata": {
        "id": "wT9mhge0mcsx"
      }
    },
    {
      "cell_type": "code",
      "source": [
        "def mape(y_predicted, y):\n",
        "    return np.mean(np.abs(y - y_predicted) / np.abs(y))\n"
      ],
      "metadata": {
        "id": "o3Eo59ACmfC-"
      },
      "execution_count": null,
      "outputs": []
    },
    {
      "cell_type": "markdown",
      "source": [
        "6. Запрограммируйте функцию, которая будет вычислять метрику WAPE. Входные параметры - y_predicted (предсказанные значения), y (целевые значения). Выходной параметр - значение метрики WAPE.\n"
      ],
      "metadata": {
        "id": "5i8cAdKcmfQ2"
      }
    },
    {
      "cell_type": "code",
      "source": [
        "def wape(y_predicted, y):\n",
        "    return np.sum(np.abs(y_predicted - y)) / np.sum(np.abs(y))\n"
      ],
      "metadata": {
        "id": "oe_5lCgymiH0"
      },
      "execution_count": null,
      "outputs": []
    },
    {
      "cell_type": "markdown",
      "source": [
        "7. Используйте функции, написанные в п. 3-6 для оценки метрик на тестовой выборке. Сравните значения метрик, полученных написанными вами функциями, со значениями, полученными библиотеками Python (ниже представлен импорт и пример их использования)."
      ],
      "metadata": {
        "id": "A4gPRr3qmibI"
      }
    },
    {
      "cell_type": "code",
      "source": [
        "# Предсказание на тестовой выборке\n",
        "y_predicted = model.predict(X_test)\n",
        "\n",
        "# Вычисление метрик с помощью написанных функций\n",
        "rmse_custom = rmse(y_predicted, y_test)\n",
        "mae_custom = mae(y_predicted, y_test)\n",
        "mape_custom = mape(y_predicted, y_test)\n",
        "wape_custom = wape(y_predicted, y_test)\n",
        "\n",
        "# Вычисление метрик с помощью scikit-learn\n",
        "from sklearn.metrics import mean_squared_error, mean_absolute_error, mean_absolute_percentage_error, explained_variance_score\n",
        "\n",
        "rmse_sklearn = np.sqrt(mean_squared_error(y_predicted, y_test))\n",
        "mae_sklearn = mean_absolute_error(y_predicted, y_test)\n",
        "mape_sklearn = mean_absolute_percentage_error(y_predicted, y_test)\n",
        "wape_sklearn = explained_variance_score(y_predicted, y_test)\n",
        "\n",
        "# Сравнение метрик\n",
        "print('RMSE (custom):', rmse_custom)\n",
        "print('RMSE (scikit-learn):', rmse_sklearn)\n",
        "print('MAE (custom):', mae_custom)\n",
        "print('MAE (scikit-learn):', mae_sklearn)\n",
        "print('MAPE (custom):', mape_custom)\n",
        "print('MAPE (scikit-learn):', mape_sklearn)\n",
        "print('WAPE (custom):', wape_custom)\n",
        "print('WAPE (scikit-learn):', wape_sklearn)\n"
      ],
      "metadata": {
        "colab": {
          "base_uri": "https://localhost:8080/"
        },
        "id": "Dq69v5UJk7lL",
        "outputId": "a607eef1-6024-462f-f33c-cd7572cb9407"
      },
      "execution_count": null,
      "outputs": [
        {
          "output_type": "stream",
          "name": "stdout",
          "text": [
            "RMSE (custom): 18.033603519051674\n",
            "RMSE (scikit-learn): 18.033603519051674\n",
            "MAE (custom): 13.670882352941177\n",
            "MAE (scikit-learn): 13.670882352941177\n",
            "MAPE (custom): 1.0043836885659785\n",
            "MAPE (scikit-learn): 0.33501572203778224\n",
            "WAPE (custom): 0.3028078175895766\n",
            "WAPE (scikit-learn): -0.3944127856104458\n"
          ]
        }
      ]
    },
    {
      "cell_type": "code",
      "source": [],
      "metadata": {
        "id": "0uckiWOzoYwL"
      },
      "execution_count": null,
      "outputs": []
    }
  ]
}