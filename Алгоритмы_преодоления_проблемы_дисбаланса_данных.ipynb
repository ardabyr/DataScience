{
  "cells": [
    {
      "cell_type": "markdown",
      "metadata": {
        "id": "view-in-github",
        "colab_type": "text"
      },
      "source": [
        "<a href=\"https://colab.research.google.com/github/ardabyr/DataScience/blob/main/%D0%90%D0%BB%D0%B3%D0%BE%D1%80%D0%B8%D1%82%D0%BC%D1%8B_%D0%BF%D1%80%D0%B5%D0%BE%D0%B4%D0%BE%D0%BB%D0%B5%D0%BD%D0%B8%D1%8F_%D0%BF%D1%80%D0%BE%D0%B1%D0%BB%D0%B5%D0%BC%D1%8B_%D0%B4%D0%B8%D1%81%D0%B1%D0%B0%D0%BB%D0%B0%D0%BD%D1%81%D0%B0_%D0%B4%D0%B0%D0%BD%D0%BD%D1%8B%D1%85.ipynb\" target=\"_parent\"><img src=\"https://colab.research.google.com/assets/colab-badge.svg\" alt=\"Open In Colab\"/></a>"
      ]
    },
    {
      "cell_type": "markdown",
      "source": [
        "## **Вариант №4.**\n",
        "ecoli.csv"
      ],
      "metadata": {
        "id": "j2tg_rmmJiQ-"
      }
    },
    {
      "cell_type": "markdown",
      "source": [
        "Проведите разведочный анализ данных для набора данных, заданного по варианту. Все датасеты взяты из репозитория [KEEL](https://sci2s.ugr.es/keel/datasets.php)\n",
        "Обязательно при выполнении задания необходимо:\n",
        "\n",
        "\n",
        "*   Загрузить данные\n",
        "*   Если в наборе данных больше двух классов, оставить только 2 класса: c наибольшим и наименьшим количеством экземпляров. Если объектов меньшего класса слишком мало (меньше 10 штук), возьмите следующий по объему объектов класс.\n",
        "*   Вычислить коэффициент дисбаланса для своего набора данных\n",
        "*   Если коэффициент дисбаланса меньше 5, внести случайным образом дисбаланса в данные, чтобы коэффициент дисбаланса был больше либо равен 7\n",
        "*   Обучить классификатор Логистическая регрессия на имеющемся наборе данных с разбивкой на обучающую и тестовую часть датасета. Оценить точность классификации с использованием метрик, заданных по варианту.\n",
        "*   Изучить и разобраться в общем алгоритме работы методов пере- и недосемлирования, заданных по варианту\n",
        "*   Применить методы пере- и недосемлирования, заданные по варианту. Оценить точность классификации (логистическая регрессия) обновленного набора данных с использованием метрик, заданных по варианту.\n",
        "*   Проанализировать с помощью таблицы, какие методы дают наилучшие результаты\n",
        "*   Применить классификатор XGBoost на имеющемся наборе данных с разбивкой на обучающую и тестовую часть датасета. Оценить точность классификации с использованием метрик, заданных по варианту.\n",
        "*   Измените параметры XGBoost, позволяющие классификатору лучше работать с несбалансированным набором данных. Оценить точность классификации с использованием метрик, заданных по варианту.\n",
        "*   Проанализировать с помощью таблицы, какие методы дают наилучшие результаты (как для логистической регрессии, так и для XGBoost).\n"
      ],
      "metadata": {
        "id": "eT6oxawtJlTl"
      }
    },
    {
      "cell_type": "code",
      "source": [
        "import numpy as np"
      ],
      "metadata": {
        "id": "kdZ64-VpogGB"
      },
      "execution_count": null,
      "outputs": []
    },
    {
      "cell_type": "code",
      "source": [
        "# Задайте номер варианта, чтобы определить параметры варианта\n",
        "variant = 4\n",
        "metrics = np.array([\"accuracy_score\", \"balanced_accuracy_score\", \"cohen_kappa_score\", \"f1_score\",\" matthews_corrcoef\", \"log_loss\", \"roc_auc_score\", \"average_precision_score\"])\n",
        "\n",
        "overS = np.array([\"RandomOverSampler()\",\n",
        "              \"SMOTE()\",\n",
        "              \"ADASYN()\",\n",
        "             \"KMeansSMOTE()\",\n",
        "             \"SMOTENC()\"])\n",
        "underS = np.array([\"RandomUnderSampler()\",\n",
        "              \"NearMiss(version=1)\",\n",
        "              \"NearMiss(version=2)\",\n",
        "              \"TomekLinks()\",\n",
        "              \"EditedNearestNeighbours()\"])\n",
        "\n",
        "np.random.seed(variant)\n",
        "print(\"Вариант\", variant)\n",
        "print(\"Методы оверсемплинга\", overS[np.random.choice(len(overS), size=2, replace=False)])\n",
        "print(\"Методы андерсемплинга\", underS[np.random.choice(len(underS), size=2, replace=False)])\n",
        "print(\"Метрики\", metrics[np.random.choice(len(metrics), size=5, replace=False)])\n"
      ],
      "metadata": {
        "colab": {
          "base_uri": "https://localhost:8080/"
        },
        "id": "e5CGfFvfF7IY",
        "outputId": "80808759-e773-4136-ebe9-0ad5cb021908"
      },
      "execution_count": null,
      "outputs": [
        {
          "output_type": "stream",
          "name": "stdout",
          "text": [
            "Вариант 4\n",
            "Методы оверсемплинга ['RandomOverSampler()' 'KMeansSMOTE()']\n",
            "Методы андерсемплинга ['NearMiss(version=1)' 'NearMiss(version=2)']\n",
            "Метрики ['log_loss' 'roc_auc_score' 'f1_score' 'accuracy_score'\n",
            " 'average_precision_score']\n"
          ]
        }
      ]
    },
    {
      "cell_type": "code",
      "source": [
        "!git lfs clone https://github.com/Mereep/keel_csv.git"
      ],
      "metadata": {
        "id": "2qgCAev7JpOl",
        "colab": {
          "base_uri": "https://localhost:8080/"
        },
        "outputId": "115ef221-6051-4e6e-9a60-fb3c60ce9dcf"
      },
      "execution_count": null,
      "outputs": [
        {
          "output_type": "stream",
          "name": "stdout",
          "text": [
            "WARNING: 'git lfs clone' is deprecated and will not be updated\n",
            "          with new flags from 'git clone'\n",
            "\n",
            "'git clone' has been updated in upstream Git to have comparable\n",
            "speeds to 'git lfs clone'.\n",
            "fatal: destination path 'keel_csv' already exists and is not an empty directory.\n",
            "Error(s) during clone:\n",
            "git clone failed: exit status 128\n"
          ]
        }
      ]
    },
    {
      "cell_type": "markdown",
      "source": [
        "Загрузить данны"
      ],
      "metadata": {
        "id": "R0a79s0dpAOi"
      }
    },
    {
      "cell_type": "code",
      "source": [
        "import pandas as pd\n",
        "data = pd.read_csv('keel_csv/standard_classification/unprocessed/ecoli.csv', sep=',')"
      ],
      "metadata": {
        "id": "fm_12oD4JupN"
      },
      "execution_count": null,
      "outputs": []
    },
    {
      "cell_type": "markdown",
      "source": [
        "Если в наборе данных больше двух классов, оставить только 2 класса: c наибольшим и наименьшим количеством экземпляров.\n",
        "Если объектов меньшего класса слишком мало (меньше 10 штук), возьмите следующий по объему объектов класс."
      ],
      "metadata": {
        "id": "s0FMpxV9pHDz"
      }
    },
    {
      "cell_type": "code",
      "source": [
        "\n",
        "class_counts = data[\"Site\"].value_counts()\n",
        "\n",
        "# Распечатать количество объектов каждого класса\n",
        "print(class_counts)\n"
      ],
      "metadata": {
        "colab": {
          "base_uri": "https://localhost:8080/"
        },
        "id": "2T8DYwzEG_7F",
        "outputId": "f1dccf69-9ff8-43ec-cd08-79142c4f89e1"
      },
      "execution_count": null,
      "outputs": [
        {
          "output_type": "stream",
          "name": "stdout",
          "text": [
            "Site\n",
            "cp     143\n",
            "im      77\n",
            "pp      52\n",
            "imU     35\n",
            "om      20\n",
            "omL      5\n",
            "imS      2\n",
            "imL      2\n",
            "Name: count, dtype: int64\n"
          ]
        }
      ]
    },
    {
      "cell_type": "code",
      "source": [
        "y = data['Site']\n",
        "\n",
        "# Удаляем все строки, которые не принадлежат выбранным классам\n",
        "data = data[(y == \"cp\") | (y == \"om\")]\n",
        "\n",
        "# целевая переменная в бинарную\n",
        "y = np.where(data['Site'] == \"cp\", 1, 0)"
      ],
      "metadata": {
        "id": "xO4gYxvhbjd_"
      },
      "execution_count": null,
      "outputs": []
    },
    {
      "cell_type": "code",
      "source": [
        "y"
      ],
      "metadata": {
        "colab": {
          "base_uri": "https://localhost:8080/"
        },
        "id": "fPZWSnYNH7s-",
        "outputId": "d45e1e00-8ec5-41d7-c76b-11a3f3db4806"
      },
      "execution_count": null,
      "outputs": [
        {
          "output_type": "execute_result",
          "data": {
            "text/plain": [
              "array([1, 1, 1, 1, 1, 1, 1, 1, 1, 1, 1, 1, 1, 1, 1, 1, 1, 1, 1, 1, 1, 1,\n",
              "       1, 1, 1, 1, 1, 1, 1, 1, 1, 1, 1, 1, 1, 1, 1, 1, 1, 1, 1, 1, 1, 1,\n",
              "       1, 1, 1, 1, 1, 1, 1, 1, 1, 1, 1, 1, 1, 1, 1, 1, 1, 1, 1, 1, 1, 1,\n",
              "       1, 1, 1, 1, 1, 1, 1, 1, 1, 1, 1, 1, 1, 1, 1, 1, 1, 1, 1, 1, 1, 1,\n",
              "       1, 1, 1, 1, 1, 1, 1, 1, 1, 1, 1, 1, 1, 1, 1, 1, 1, 1, 1, 1, 1, 1,\n",
              "       1, 1, 1, 1, 1, 1, 1, 1, 1, 1, 1, 1, 1, 1, 1, 1, 1, 1, 1, 1, 1, 1,\n",
              "       1, 1, 1, 1, 1, 1, 1, 1, 1, 1, 1, 0, 0, 0, 0, 0, 0, 0, 0, 0, 0, 0,\n",
              "       0, 0, 0, 0, 0, 0, 0, 0, 0])"
            ]
          },
          "metadata": {},
          "execution_count": 76
        }
      ]
    },
    {
      "cell_type": "markdown",
      "source": [
        "Вычислить коэффициент дисбаланса для своего набора данных"
      ],
      "metadata": {
        "id": "ijudLKuXpJhf"
      }
    },
    {
      "cell_type": "code",
      "source": [
        "imbalance_ratio = sum(y) / ((len(y) - sum(y)))\n",
        "\n",
        "print('Коэффициент дисбаланса:', imbalance_ratio)"
      ],
      "metadata": {
        "id": "BEQIACn2bkXh",
        "colab": {
          "base_uri": "https://localhost:8080/"
        },
        "outputId": "da1b6d9c-ef2d-49f8-dee3-a629c3f4a5fa"
      },
      "execution_count": null,
      "outputs": [
        {
          "output_type": "stream",
          "name": "stdout",
          "text": [
            "Коэффициент дисбаланса: 7.15\n"
          ]
        }
      ]
    },
    {
      "cell_type": "markdown",
      "source": [
        "Если коэффициент дисбаланса меньше 5, внести случайным образом дисбаланса в данные, чтобы коэффициент дисбаланса был больше либо равен 7"
      ],
      "metadata": {
        "id": "PumofAs0pLtp"
      }
    },
    {
      "cell_type": "markdown",
      "source": [
        "Обучить классификатор Логистическая регрессия на имеющемся наборе данных с разбивкой на обучающую и тестовую часть датасета. Оценить точность классификации с использованием метрик, заданных по варианту.\n"
      ],
      "metadata": {
        "id": "yyeJULNypNhL"
      }
    },
    {
      "cell_type": "code",
      "source": [
        "from sklearn.model_selection import train_test_split\n",
        "from sklearn.linear_model import LogisticRegression\n",
        "X = data.drop(\"Site\", axis=1)\n",
        "X_train, X_test, y_train, y_test = train_test_split(X, y, test_size=0.2, stratify=y)\n",
        "model = LogisticRegression()\n",
        "model.fit(X_train, y_train)"
      ],
      "metadata": {
        "id": "f52o8xOdbrMg",
        "colab": {
          "base_uri": "https://localhost:8080/",
          "height": 74
        },
        "outputId": "d5e796d6-1ed0-4c49-dc25-63bd08eb180c"
      },
      "execution_count": null,
      "outputs": [
        {
          "output_type": "execute_result",
          "data": {
            "text/plain": [
              "LogisticRegression()"
            ],
            "text/html": [
              "<style>#sk-container-id-3 {color: black;background-color: white;}#sk-container-id-3 pre{padding: 0;}#sk-container-id-3 div.sk-toggleable {background-color: white;}#sk-container-id-3 label.sk-toggleable__label {cursor: pointer;display: block;width: 100%;margin-bottom: 0;padding: 0.3em;box-sizing: border-box;text-align: center;}#sk-container-id-3 label.sk-toggleable__label-arrow:before {content: \"▸\";float: left;margin-right: 0.25em;color: #696969;}#sk-container-id-3 label.sk-toggleable__label-arrow:hover:before {color: black;}#sk-container-id-3 div.sk-estimator:hover label.sk-toggleable__label-arrow:before {color: black;}#sk-container-id-3 div.sk-toggleable__content {max-height: 0;max-width: 0;overflow: hidden;text-align: left;background-color: #f0f8ff;}#sk-container-id-3 div.sk-toggleable__content pre {margin: 0.2em;color: black;border-radius: 0.25em;background-color: #f0f8ff;}#sk-container-id-3 input.sk-toggleable__control:checked~div.sk-toggleable__content {max-height: 200px;max-width: 100%;overflow: auto;}#sk-container-id-3 input.sk-toggleable__control:checked~label.sk-toggleable__label-arrow:before {content: \"▾\";}#sk-container-id-3 div.sk-estimator input.sk-toggleable__control:checked~label.sk-toggleable__label {background-color: #d4ebff;}#sk-container-id-3 div.sk-label input.sk-toggleable__control:checked~label.sk-toggleable__label {background-color: #d4ebff;}#sk-container-id-3 input.sk-hidden--visually {border: 0;clip: rect(1px 1px 1px 1px);clip: rect(1px, 1px, 1px, 1px);height: 1px;margin: -1px;overflow: hidden;padding: 0;position: absolute;width: 1px;}#sk-container-id-3 div.sk-estimator {font-family: monospace;background-color: #f0f8ff;border: 1px dotted black;border-radius: 0.25em;box-sizing: border-box;margin-bottom: 0.5em;}#sk-container-id-3 div.sk-estimator:hover {background-color: #d4ebff;}#sk-container-id-3 div.sk-parallel-item::after {content: \"\";width: 100%;border-bottom: 1px solid gray;flex-grow: 1;}#sk-container-id-3 div.sk-label:hover label.sk-toggleable__label {background-color: #d4ebff;}#sk-container-id-3 div.sk-serial::before {content: \"\";position: absolute;border-left: 1px solid gray;box-sizing: border-box;top: 0;bottom: 0;left: 50%;z-index: 0;}#sk-container-id-3 div.sk-serial {display: flex;flex-direction: column;align-items: center;background-color: white;padding-right: 0.2em;padding-left: 0.2em;position: relative;}#sk-container-id-3 div.sk-item {position: relative;z-index: 1;}#sk-container-id-3 div.sk-parallel {display: flex;align-items: stretch;justify-content: center;background-color: white;position: relative;}#sk-container-id-3 div.sk-item::before, #sk-container-id-3 div.sk-parallel-item::before {content: \"\";position: absolute;border-left: 1px solid gray;box-sizing: border-box;top: 0;bottom: 0;left: 50%;z-index: -1;}#sk-container-id-3 div.sk-parallel-item {display: flex;flex-direction: column;z-index: 1;position: relative;background-color: white;}#sk-container-id-3 div.sk-parallel-item:first-child::after {align-self: flex-end;width: 50%;}#sk-container-id-3 div.sk-parallel-item:last-child::after {align-self: flex-start;width: 50%;}#sk-container-id-3 div.sk-parallel-item:only-child::after {width: 0;}#sk-container-id-3 div.sk-dashed-wrapped {border: 1px dashed gray;margin: 0 0.4em 0.5em 0.4em;box-sizing: border-box;padding-bottom: 0.4em;background-color: white;}#sk-container-id-3 div.sk-label label {font-family: monospace;font-weight: bold;display: inline-block;line-height: 1.2em;}#sk-container-id-3 div.sk-label-container {text-align: center;}#sk-container-id-3 div.sk-container {/* jupyter's `normalize.less` sets `[hidden] { display: none; }` but bootstrap.min.css set `[hidden] { display: none !important; }` so we also need the `!important` here to be able to override the default hidden behavior on the sphinx rendered scikit-learn.org. See: https://github.com/scikit-learn/scikit-learn/issues/21755 */display: inline-block !important;position: relative;}#sk-container-id-3 div.sk-text-repr-fallback {display: none;}</style><div id=\"sk-container-id-3\" class=\"sk-top-container\"><div class=\"sk-text-repr-fallback\"><pre>LogisticRegression()</pre><b>In a Jupyter environment, please rerun this cell to show the HTML representation or trust the notebook. <br />On GitHub, the HTML representation is unable to render, please try loading this page with nbviewer.org.</b></div><div class=\"sk-container\" hidden><div class=\"sk-item\"><div class=\"sk-estimator sk-toggleable\"><input class=\"sk-toggleable__control sk-hidden--visually\" id=\"sk-estimator-id-3\" type=\"checkbox\" checked><label for=\"sk-estimator-id-3\" class=\"sk-toggleable__label sk-toggleable__label-arrow\">LogisticRegression</label><div class=\"sk-toggleable__content\"><pre>LogisticRegression()</pre></div></div></div></div></div>"
            ]
          },
          "metadata": {},
          "execution_count": 78
        }
      ]
    },
    {
      "cell_type": "code",
      "source": [
        "from sklearn.metrics import log_loss, roc_auc_score, f1_score, accuracy_score, average_precision_score\n",
        "metrics = ['log_loss', 'roc_auc_score', 'f1_score', 'accuracy_score', 'average_precision_score']\n",
        "scores = {}\n",
        "scores[\"Baseline\"] = []\n",
        "for metric in metrics:\n",
        "    score = eval(metric)(y_test, model.predict(X_test))\n",
        "    print(metric, score)\n",
        "    scores[\"Baseline\"].append(score)\n"
      ],
      "metadata": {
        "id": "gHmNRhSswtXA",
        "colab": {
          "base_uri": "https://localhost:8080/"
        },
        "outputId": "332965f0-adee-404a-d83a-2fba9a3a69d0"
      },
      "execution_count": null,
      "outputs": [
        {
          "output_type": "stream",
          "name": "stdout",
          "text": [
            "log_loss 4.368927683529352\n",
            "roc_auc_score 0.9310344827586207\n",
            "f1_score 0.9259259259259259\n",
            "accuracy_score 0.8787878787878788\n",
            "average_precision_score 0.9832810867293625\n"
          ]
        }
      ]
    },
    {
      "cell_type": "markdown",
      "source": [
        "Применить методы пере- и недосемлирования, заданные по варианту. Оценить точность классификации (логистическая регрессия) обновленного набора данных с использованием метрик, заданных по варианту.\n"
      ],
      "metadata": {
        "id": "r_u8uyd7pRBf"
      }
    },
    {
      "cell_type": "code",
      "source": [
        "from imblearn.over_sampling import RandomOverSampler, SMOTE, SMOTENC, KMeansSMOTE\n",
        "from sklearn.metrics import accuracy_score, precision_score, recall_score, f1_score\n",
        "\n",
        "print('Oversampling methods')\n",
        "techniques = [RandomOverSampler(), KMeansSMOTE()]\n",
        "results = []\n",
        "\n",
        "for sampler in techniques:\n",
        "    technique = sampler.__class__.__name__\n",
        "    print(f'Метод: {technique}')\n",
        "    X_resampled, y_resampled = sampler.fit_resample(X_train, y_train)\n",
        "    print(f'X_resampled={X_resampled.shape}, y_resampled={y_resampled.mean()}')\n",
        "    model.fit(X_resampled, y_resampled)\n",
        "    y_pred = model.predict(X_test)\n",
        "    results.append({\n",
        "        'technique': technique,\n",
        "        'accuracy': accuracy_score(y_test, y_pred),\n",
        "        'precision': precision_score(y_test, y_pred),\n",
        "        'recall': recall_score(y_test, y_pred),\n",
        "        'f1': f1_score(y_test, y_pred)})"
      ],
      "metadata": {
        "id": "FKpzEUn2bu0o",
        "colab": {
          "base_uri": "https://localhost:8080/"
        },
        "outputId": "a85c2073-c121-417d-fa5c-39adebb27f6f"
      },
      "execution_count": null,
      "outputs": [
        {
          "output_type": "stream",
          "name": "stdout",
          "text": [
            "Oversampling methods\n",
            "Метод: RandomOverSampler\n",
            "X_resampled=(228, 7), y_resampled=0.5\n",
            "Метод: KMeansSMOTE\n",
            "X_resampled=(229, 7), y_resampled=0.4978165938864629\n"
          ]
        },
        {
          "output_type": "stream",
          "name": "stderr",
          "text": [
            "/usr/local/lib/python3.10/dist-packages/sklearn/cluster/_kmeans.py:870: FutureWarning: The default value of `n_init` will change from 3 to 'auto' in 1.4. Set the value of `n_init` explicitly to suppress the warning\n",
            "  warnings.warn(\n"
          ]
        }
      ]
    },
    {
      "cell_type": "code",
      "source": [
        "results"
      ],
      "metadata": {
        "colab": {
          "base_uri": "https://localhost:8080/"
        },
        "id": "Gdt0N47UQj3q",
        "outputId": "c8f98317-366e-4995-e74b-fa05ee3e1101"
      },
      "execution_count": null,
      "outputs": [
        {
          "output_type": "execute_result",
          "data": {
            "text/plain": [
              "[{'technique': 'RandomOverSampler',\n",
              "  'accuracy': 0.8787878787878788,\n",
              "  'precision': 1.0,\n",
              "  'recall': 0.8620689655172413,\n",
              "  'f1': 0.9259259259259259},\n",
              " {'technique': 'KMeansSMOTE',\n",
              "  'accuracy': 0.8787878787878788,\n",
              "  'precision': 1.0,\n",
              "  'recall': 0.8620689655172413,\n",
              "  'f1': 0.9259259259259259}]"
            ]
          },
          "metadata": {},
          "execution_count": 81
        }
      ]
    },
    {
      "cell_type": "code",
      "source": [
        "from imblearn.under_sampling import RandomUnderSampler, NearMiss, TomekLinks, EditedNearestNeighbours\n",
        "\n",
        "print('Undersampling methods')\n",
        "techniques = [TomekLinks(),\n",
        "              EditedNearestNeighbours(), NearMiss(version=1), NearMiss(version=2)]\n",
        "\n",
        "\n",
        "for sampler in techniques:\n",
        "    technique = sampler.__class__.__name__\n",
        "    print(f'Метод: {technique}')\n",
        "    X_resampled, y_resampled = sampler.fit_resample(X_train, y_train)\n",
        "    print(f'X_resampled={X_resampled.shape}, y_resampled={y_resampled.mean()}')\n",
        "    model.fit(X_resampled, y_resampled)\n",
        "    results.append({\n",
        "    'technique': technique,\n",
        "    'accuracy': accuracy_score(y_test, y_pred),\n",
        "    'precision': precision_score(y_test, y_pred),\n",
        "    'recall': recall_score(y_test, y_pred),\n",
        "    'f1': f1_score(y_test, y_pred)})"
      ],
      "metadata": {
        "colab": {
          "base_uri": "https://localhost:8080/"
        },
        "id": "lzt-1bjhG434",
        "outputId": "bc92681d-24c1-465c-ac05-b704a180d9e4"
      },
      "execution_count": null,
      "outputs": [
        {
          "output_type": "stream",
          "name": "stdout",
          "text": [
            "Undersampling methods\n",
            "Метод: TomekLinks\n",
            "X_resampled=(130, 7), y_resampled=0.8769230769230769\n",
            "Метод: EditedNearestNeighbours\n",
            "X_resampled=(129, 7), y_resampled=0.875968992248062\n",
            "Метод: NearMiss\n",
            "X_resampled=(32, 7), y_resampled=0.5\n",
            "Метод: NearMiss\n"
          ]
        },
        {
          "output_type": "stream",
          "name": "stderr",
          "text": [
            "/usr/local/lib/python3.10/dist-packages/sklearn/linear_model/_logistic.py:458: ConvergenceWarning: lbfgs failed to converge (status=1):\n",
            "STOP: TOTAL NO. of ITERATIONS REACHED LIMIT.\n",
            "\n",
            "Increase the number of iterations (max_iter) or scale the data as shown in:\n",
            "    https://scikit-learn.org/stable/modules/preprocessing.html\n",
            "Please also refer to the documentation for alternative solver options:\n",
            "    https://scikit-learn.org/stable/modules/linear_model.html#logistic-regression\n",
            "  n_iter_i = _check_optimize_result(\n"
          ]
        },
        {
          "output_type": "stream",
          "name": "stdout",
          "text": [
            "X_resampled=(32, 7), y_resampled=0.5\n"
          ]
        }
      ]
    },
    {
      "cell_type": "code",
      "source": [
        "import pandas as pd\n",
        "from sklearn.metrics import accuracy_score, precision_score, recall_score, roc_auc_score, auc\n",
        "from sklearn.model_selection import train_test_split\n",
        "\n",
        "# Создаем таблицу для результатов\n",
        "result = pd.DataFrame(results)\n",
        "\n",
        "\n",
        "# Выводим таблицу\n",
        "print(result)\n"
      ],
      "metadata": {
        "colab": {
          "base_uri": "https://localhost:8080/"
        },
        "id": "aY52IBqdN0lD",
        "outputId": "76c6250f-61f3-492e-f2a1-e470e548efda"
      },
      "execution_count": null,
      "outputs": [
        {
          "output_type": "stream",
          "name": "stdout",
          "text": [
            "                 technique  accuracy  precision    recall        f1\n",
            "0        RandomOverSampler  0.878788        1.0  0.862069  0.925926\n",
            "1              KMeansSMOTE  0.878788        1.0  0.862069  0.925926\n",
            "2               TomekLinks  0.878788        1.0  0.862069  0.925926\n",
            "3  EditedNearestNeighbours  0.878788        1.0  0.862069  0.925926\n",
            "4                 NearMiss  0.878788        1.0  0.862069  0.925926\n",
            "5                 NearMiss  0.878788        1.0  0.862069  0.925926\n"
          ]
        }
      ]
    },
    {
      "cell_type": "markdown",
      "source": [
        "Применить классификатор XGBoost на имеющемся наборе данных с разбивкой на обучающую и тестовую часть датасета. Оценить точность классификации с использованием метрик, заданных по варианту.\n"
      ],
      "metadata": {
        "id": "fiZnB3BmpT5x"
      }
    },
    {
      "cell_type": "code",
      "source": [
        "import xgboost as xgb\n",
        "\n",
        "# Классификатор XGBoost\n",
        "model = xgb.XGBClassifier()\n",
        "\n",
        "# Обучение модели\n",
        "model.fit(X_train, y_train)\n",
        "results_XGBoost = []\n",
        "# Оценка метрик\n",
        "scores[\"XGBoost\"] = []\n",
        "for metric in metrics:\n",
        "    score = eval(metric)(y_test, model.predict(X_test))\n",
        "    print(metric, score)\n",
        "    scores[\"XGBoost\"].append(score)"
      ],
      "metadata": {
        "id": "zawwlZNvbxsP",
        "colab": {
          "base_uri": "https://localhost:8080/"
        },
        "outputId": "db6acc70-ea44-4d8e-bd96-ebe84c9f1278"
      },
      "execution_count": null,
      "outputs": [
        {
          "output_type": "stream",
          "name": "stdout",
          "text": [
            "log_loss 2.184463841764676\n",
            "roc_auc_score 0.8577586206896552\n",
            "f1_score 0.9655172413793104\n",
            "accuracy_score 0.9393939393939394\n",
            "average_precision_score 0.9625265737037438\n"
          ]
        }
      ]
    },
    {
      "cell_type": "markdown",
      "source": [
        "Измените параметры XGBoost, позволяющие классификатору лучше работать с несбалансированным набором данных. Оценить точность классификации с использованием метрик, заданных по варианту.\n"
      ],
      "metadata": {
        "id": "EkMvkffypVmm"
      }
    },
    {
      "cell_type": "code",
      "source": [
        "import xgboost as xgb\n",
        "\n",
        "# Классификатор XGBoost с параметрами для обработки несбалансированных данных\n",
        "model = xgb.XGBClassifier(\n",
        "    scale_pos_weight=100,  # Увеличение веса положительных выборок\n",
        "    max_delta_step=200,  # Максимальная разница между весами положительных и отрицательных выборок\n",
        "    objective=\"binary:logistic\",  # Целевая функция для бинарной классификации\n",
        ")\n",
        "\n",
        "# Обучение модели\n",
        "model.fit(X_train, y_train)\n",
        "\n",
        "# Оценка метрик\n",
        "scores[\"XGBoost_changed\"] = []\n",
        "for metric in metrics:\n",
        "    score = eval(metric)(y_test, model.predict(X_test))\n",
        "    print(metric, score)\n",
        "    scores[\"XGBoost_changed\"].append(score)\n"
      ],
      "metadata": {
        "id": "jLrm_gbkbytt",
        "colab": {
          "base_uri": "https://localhost:8080/"
        },
        "outputId": "86cff426-ae25-4052-dfa9-c4f9f1a0a388"
      },
      "execution_count": null,
      "outputs": [
        {
          "output_type": "stream",
          "name": "stdout",
          "text": [
            "log_loss 2.184463841764676\n",
            "roc_auc_score 0.8577586206896552\n",
            "f1_score 0.9655172413793104\n",
            "accuracy_score 0.9393939393939394\n",
            "average_precision_score 0.9625265737037438\n"
          ]
        }
      ]
    },
    {
      "cell_type": "code",
      "source": [
        "scores = [\n",
        "    {'technique' : 'Baseline', 'log_loss': 4.368927683529352, 'roc_auc_score': 0.9310344827586207, 'f1_score': 0.9259259259259259, 'accuracy_score': 0.8787878787878788, 'average_precision_score': 0.9832810867293625},\n",
        "    {'technique' : 'XGBoost', 'log_loss': 2.184463841764676, 'roc_auc_score': 0.8577586206896552, 'f1_score': 0.9655172413793104, 'accuracy_score': 0.9393939393939394, 'average_precision_score': 0.9625265737037438},\n",
        "    {'technique' : 'XGBoost_changed', 'log_loss': 2.184463841764676, 'roc_auc_score': 0.8577586206896552, 'f1_score': 0.9655172413793104, 'accuracy_score': 0.9393939393939394, 'average_precision_score': 0.9625265737037438}\n",
        "]"
      ],
      "metadata": {
        "id": "AxRyFASfMzMx"
      },
      "execution_count": null,
      "outputs": []
    },
    {
      "cell_type": "code",
      "source": [
        "scoresult = pd.DataFrame(scores)\n",
        "scoresult"
      ],
      "metadata": {
        "colab": {
          "base_uri": "https://localhost:8080/",
          "height": 143
        },
        "id": "0xaGkdq4VJB3",
        "outputId": "0c8e3ca3-9cb7-474c-8d96-0dc822beea79"
      },
      "execution_count": null,
      "outputs": [
        {
          "output_type": "execute_result",
          "data": {
            "text/plain": [
              "         technique  log_loss  roc_auc_score  f1_score  accuracy_score  \\\n",
              "0         Baseline  4.368928       0.931034  0.925926        0.878788   \n",
              "1          XGBoost  2.184464       0.857759  0.965517        0.939394   \n",
              "2  XGBoost_changed  2.184464       0.857759  0.965517        0.939394   \n",
              "\n",
              "   average_precision_score  \n",
              "0                 0.983281  \n",
              "1                 0.962527  \n",
              "2                 0.962527  "
            ],
            "text/html": [
              "\n",
              "  <div id=\"df-d0a11ed5-1b06-48d4-b506-2b624829a906\" class=\"colab-df-container\">\n",
              "    <div>\n",
              "<style scoped>\n",
              "    .dataframe tbody tr th:only-of-type {\n",
              "        vertical-align: middle;\n",
              "    }\n",
              "\n",
              "    .dataframe tbody tr th {\n",
              "        vertical-align: top;\n",
              "    }\n",
              "\n",
              "    .dataframe thead th {\n",
              "        text-align: right;\n",
              "    }\n",
              "</style>\n",
              "<table border=\"1\" class=\"dataframe\">\n",
              "  <thead>\n",
              "    <tr style=\"text-align: right;\">\n",
              "      <th></th>\n",
              "      <th>technique</th>\n",
              "      <th>log_loss</th>\n",
              "      <th>roc_auc_score</th>\n",
              "      <th>f1_score</th>\n",
              "      <th>accuracy_score</th>\n",
              "      <th>average_precision_score</th>\n",
              "    </tr>\n",
              "  </thead>\n",
              "  <tbody>\n",
              "    <tr>\n",
              "      <th>0</th>\n",
              "      <td>Baseline</td>\n",
              "      <td>4.368928</td>\n",
              "      <td>0.931034</td>\n",
              "      <td>0.925926</td>\n",
              "      <td>0.878788</td>\n",
              "      <td>0.983281</td>\n",
              "    </tr>\n",
              "    <tr>\n",
              "      <th>1</th>\n",
              "      <td>XGBoost</td>\n",
              "      <td>2.184464</td>\n",
              "      <td>0.857759</td>\n",
              "      <td>0.965517</td>\n",
              "      <td>0.939394</td>\n",
              "      <td>0.962527</td>\n",
              "    </tr>\n",
              "    <tr>\n",
              "      <th>2</th>\n",
              "      <td>XGBoost_changed</td>\n",
              "      <td>2.184464</td>\n",
              "      <td>0.857759</td>\n",
              "      <td>0.965517</td>\n",
              "      <td>0.939394</td>\n",
              "      <td>0.962527</td>\n",
              "    </tr>\n",
              "  </tbody>\n",
              "</table>\n",
              "</div>\n",
              "    <div class=\"colab-df-buttons\">\n",
              "\n",
              "  <div class=\"colab-df-container\">\n",
              "    <button class=\"colab-df-convert\" onclick=\"convertToInteractive('df-d0a11ed5-1b06-48d4-b506-2b624829a906')\"\n",
              "            title=\"Convert this dataframe to an interactive table.\"\n",
              "            style=\"display:none;\">\n",
              "\n",
              "  <svg xmlns=\"http://www.w3.org/2000/svg\" height=\"24px\" viewBox=\"0 -960 960 960\">\n",
              "    <path d=\"M120-120v-720h720v720H120Zm60-500h600v-160H180v160Zm220 220h160v-160H400v160Zm0 220h160v-160H400v160ZM180-400h160v-160H180v160Zm440 0h160v-160H620v160ZM180-180h160v-160H180v160Zm440 0h160v-160H620v160Z\"/>\n",
              "  </svg>\n",
              "    </button>\n",
              "\n",
              "  <style>\n",
              "    .colab-df-container {\n",
              "      display:flex;\n",
              "      gap: 12px;\n",
              "    }\n",
              "\n",
              "    .colab-df-convert {\n",
              "      background-color: #E8F0FE;\n",
              "      border: none;\n",
              "      border-radius: 50%;\n",
              "      cursor: pointer;\n",
              "      display: none;\n",
              "      fill: #1967D2;\n",
              "      height: 32px;\n",
              "      padding: 0 0 0 0;\n",
              "      width: 32px;\n",
              "    }\n",
              "\n",
              "    .colab-df-convert:hover {\n",
              "      background-color: #E2EBFA;\n",
              "      box-shadow: 0px 1px 2px rgba(60, 64, 67, 0.3), 0px 1px 3px 1px rgba(60, 64, 67, 0.15);\n",
              "      fill: #174EA6;\n",
              "    }\n",
              "\n",
              "    .colab-df-buttons div {\n",
              "      margin-bottom: 4px;\n",
              "    }\n",
              "\n",
              "    [theme=dark] .colab-df-convert {\n",
              "      background-color: #3B4455;\n",
              "      fill: #D2E3FC;\n",
              "    }\n",
              "\n",
              "    [theme=dark] .colab-df-convert:hover {\n",
              "      background-color: #434B5C;\n",
              "      box-shadow: 0px 1px 3px 1px rgba(0, 0, 0, 0.15);\n",
              "      filter: drop-shadow(0px 1px 2px rgba(0, 0, 0, 0.3));\n",
              "      fill: #FFFFFF;\n",
              "    }\n",
              "  </style>\n",
              "\n",
              "    <script>\n",
              "      const buttonEl =\n",
              "        document.querySelector('#df-d0a11ed5-1b06-48d4-b506-2b624829a906 button.colab-df-convert');\n",
              "      buttonEl.style.display =\n",
              "        google.colab.kernel.accessAllowed ? 'block' : 'none';\n",
              "\n",
              "      async function convertToInteractive(key) {\n",
              "        const element = document.querySelector('#df-d0a11ed5-1b06-48d4-b506-2b624829a906');\n",
              "        const dataTable =\n",
              "          await google.colab.kernel.invokeFunction('convertToInteractive',\n",
              "                                                    [key], {});\n",
              "        if (!dataTable) return;\n",
              "\n",
              "        const docLinkHtml = 'Like what you see? Visit the ' +\n",
              "          '<a target=\"_blank\" href=https://colab.research.google.com/notebooks/data_table.ipynb>data table notebook</a>'\n",
              "          + ' to learn more about interactive tables.';\n",
              "        element.innerHTML = '';\n",
              "        dataTable['output_type'] = 'display_data';\n",
              "        await google.colab.output.renderOutput(dataTable, element);\n",
              "        const docLink = document.createElement('div');\n",
              "        docLink.innerHTML = docLinkHtml;\n",
              "        element.appendChild(docLink);\n",
              "      }\n",
              "    </script>\n",
              "  </div>\n",
              "\n",
              "\n",
              "<div id=\"df-0a752441-e77c-4dca-9829-af9b33cd93ef\">\n",
              "  <button class=\"colab-df-quickchart\" onclick=\"quickchart('df-0a752441-e77c-4dca-9829-af9b33cd93ef')\"\n",
              "            title=\"Suggest charts\"\n",
              "            style=\"display:none;\">\n",
              "\n",
              "<svg xmlns=\"http://www.w3.org/2000/svg\" height=\"24px\"viewBox=\"0 0 24 24\"\n",
              "     width=\"24px\">\n",
              "    <g>\n",
              "        <path d=\"M19 3H5c-1.1 0-2 .9-2 2v14c0 1.1.9 2 2 2h14c1.1 0 2-.9 2-2V5c0-1.1-.9-2-2-2zM9 17H7v-7h2v7zm4 0h-2V7h2v10zm4 0h-2v-4h2v4z\"/>\n",
              "    </g>\n",
              "</svg>\n",
              "  </button>\n",
              "\n",
              "<style>\n",
              "  .colab-df-quickchart {\n",
              "      --bg-color: #E8F0FE;\n",
              "      --fill-color: #1967D2;\n",
              "      --hover-bg-color: #E2EBFA;\n",
              "      --hover-fill-color: #174EA6;\n",
              "      --disabled-fill-color: #AAA;\n",
              "      --disabled-bg-color: #DDD;\n",
              "  }\n",
              "\n",
              "  [theme=dark] .colab-df-quickchart {\n",
              "      --bg-color: #3B4455;\n",
              "      --fill-color: #D2E3FC;\n",
              "      --hover-bg-color: #434B5C;\n",
              "      --hover-fill-color: #FFFFFF;\n",
              "      --disabled-bg-color: #3B4455;\n",
              "      --disabled-fill-color: #666;\n",
              "  }\n",
              "\n",
              "  .colab-df-quickchart {\n",
              "    background-color: var(--bg-color);\n",
              "    border: none;\n",
              "    border-radius: 50%;\n",
              "    cursor: pointer;\n",
              "    display: none;\n",
              "    fill: var(--fill-color);\n",
              "    height: 32px;\n",
              "    padding: 0;\n",
              "    width: 32px;\n",
              "  }\n",
              "\n",
              "  .colab-df-quickchart:hover {\n",
              "    background-color: var(--hover-bg-color);\n",
              "    box-shadow: 0 1px 2px rgba(60, 64, 67, 0.3), 0 1px 3px 1px rgba(60, 64, 67, 0.15);\n",
              "    fill: var(--button-hover-fill-color);\n",
              "  }\n",
              "\n",
              "  .colab-df-quickchart-complete:disabled,\n",
              "  .colab-df-quickchart-complete:disabled:hover {\n",
              "    background-color: var(--disabled-bg-color);\n",
              "    fill: var(--disabled-fill-color);\n",
              "    box-shadow: none;\n",
              "  }\n",
              "\n",
              "  .colab-df-spinner {\n",
              "    border: 2px solid var(--fill-color);\n",
              "    border-color: transparent;\n",
              "    border-bottom-color: var(--fill-color);\n",
              "    animation:\n",
              "      spin 1s steps(1) infinite;\n",
              "  }\n",
              "\n",
              "  @keyframes spin {\n",
              "    0% {\n",
              "      border-color: transparent;\n",
              "      border-bottom-color: var(--fill-color);\n",
              "      border-left-color: var(--fill-color);\n",
              "    }\n",
              "    20% {\n",
              "      border-color: transparent;\n",
              "      border-left-color: var(--fill-color);\n",
              "      border-top-color: var(--fill-color);\n",
              "    }\n",
              "    30% {\n",
              "      border-color: transparent;\n",
              "      border-left-color: var(--fill-color);\n",
              "      border-top-color: var(--fill-color);\n",
              "      border-right-color: var(--fill-color);\n",
              "    }\n",
              "    40% {\n",
              "      border-color: transparent;\n",
              "      border-right-color: var(--fill-color);\n",
              "      border-top-color: var(--fill-color);\n",
              "    }\n",
              "    60% {\n",
              "      border-color: transparent;\n",
              "      border-right-color: var(--fill-color);\n",
              "    }\n",
              "    80% {\n",
              "      border-color: transparent;\n",
              "      border-right-color: var(--fill-color);\n",
              "      border-bottom-color: var(--fill-color);\n",
              "    }\n",
              "    90% {\n",
              "      border-color: transparent;\n",
              "      border-bottom-color: var(--fill-color);\n",
              "    }\n",
              "  }\n",
              "</style>\n",
              "\n",
              "  <script>\n",
              "    async function quickchart(key) {\n",
              "      const quickchartButtonEl =\n",
              "        document.querySelector('#' + key + ' button');\n",
              "      quickchartButtonEl.disabled = true;  // To prevent multiple clicks.\n",
              "      quickchartButtonEl.classList.add('colab-df-spinner');\n",
              "      try {\n",
              "        const charts = await google.colab.kernel.invokeFunction(\n",
              "            'suggestCharts', [key], {});\n",
              "      } catch (error) {\n",
              "        console.error('Error during call to suggestCharts:', error);\n",
              "      }\n",
              "      quickchartButtonEl.classList.remove('colab-df-spinner');\n",
              "      quickchartButtonEl.classList.add('colab-df-quickchart-complete');\n",
              "    }\n",
              "    (() => {\n",
              "      let quickchartButtonEl =\n",
              "        document.querySelector('#df-0a752441-e77c-4dca-9829-af9b33cd93ef button');\n",
              "      quickchartButtonEl.style.display =\n",
              "        google.colab.kernel.accessAllowed ? 'block' : 'none';\n",
              "    })();\n",
              "  </script>\n",
              "</div>\n",
              "    </div>\n",
              "  </div>\n"
            ],
            "application/vnd.google.colaboratory.intrinsic+json": {
              "type": "dataframe",
              "variable_name": "scoresult",
              "summary": "{\n  \"name\": \"scoresult\",\n  \"rows\": 3,\n  \"fields\": [\n    {\n      \"column\": \"technique\",\n      \"properties\": {\n        \"dtype\": \"string\",\n        \"num_unique_values\": 3,\n        \"samples\": [\n          \"Baseline\",\n          \"XGBoost\",\n          \"XGBoost_changed\"\n        ],\n        \"semantic_type\": \"\",\n        \"description\": \"\"\n      }\n    },\n    {\n      \"column\": \"log_loss\",\n      \"properties\": {\n        \"dtype\": \"number\",\n        \"std\": 1.2612007870778397,\n        \"min\": 2.184463841764676,\n        \"max\": 4.368927683529352,\n        \"num_unique_values\": 2,\n        \"samples\": [\n          2.184463841764676,\n          4.368927683529352\n        ],\n        \"semantic_type\": \"\",\n        \"description\": \"\"\n      }\n    },\n    {\n      \"column\": \"roc_auc_score\",\n      \"properties\": {\n        \"dtype\": \"number\",\n        \"std\": 0.042305838690619074,\n        \"min\": 0.8577586206896552,\n        \"max\": 0.9310344827586207,\n        \"num_unique_values\": 2,\n        \"samples\": [\n          0.8577586206896552,\n          0.9310344827586207\n        ],\n        \"semantic_type\": \"\",\n        \"description\": \"\"\n      }\n    },\n    {\n      \"column\": \"f1_score\",\n      \"properties\": {\n        \"dtype\": \"number\",\n        \"std\": 0.02285805663458291,\n        \"min\": 0.9259259259259259,\n        \"max\": 0.9655172413793104,\n        \"num_unique_values\": 2,\n        \"samples\": [\n          0.9655172413793104,\n          0.9259259259259259\n        ],\n        \"semantic_type\": \"\",\n        \"description\": \"\"\n      }\n    },\n    {\n      \"column\": \"accuracy_score\",\n      \"properties\": {\n        \"dtype\": \"number\",\n        \"std\": 0.034990925405431896,\n        \"min\": 0.8787878787878788,\n        \"max\": 0.9393939393939394,\n        \"num_unique_values\": 2,\n        \"samples\": [\n          0.9393939393939394,\n          0.8787878787878788\n        ],\n        \"semantic_type\": \"\",\n        \"description\": \"\"\n      }\n    },\n    {\n      \"column\": \"average_precision_score\",\n      \"properties\": {\n        \"dtype\": \"number\",\n        \"std\": 0.011982623682240554,\n        \"min\": 0.9625265737037438,\n        \"max\": 0.9832810867293625,\n        \"num_unique_values\": 2,\n        \"samples\": [\n          0.9625265737037438,\n          0.9832810867293625\n        ],\n        \"semantic_type\": \"\",\n        \"description\": \"\"\n      }\n    }\n  ]\n}"
            }
          },
          "metadata": {},
          "execution_count": 108
        }
      ]
    },
    {
      "cell_type": "code",
      "source": [],
      "metadata": {
        "id": "P85wupuUWurp"
      },
      "execution_count": null,
      "outputs": []
    }
  ],
  "metadata": {
    "anaconda-cloud": {},
    "kernelspec": {
      "display_name": "Python 3",
      "language": "python",
      "name": "python3"
    },
    "language_info": {
      "codemirror_mode": {
        "name": "ipython",
        "version": 3
      },
      "file_extension": ".py",
      "mimetype": "text/x-python",
      "name": "python",
      "nbconvert_exporter": "python",
      "pygments_lexer": "ipython3",
      "version": "3.6.1"
    },
    "colab": {
      "provenance": [],
      "include_colab_link": true
    }
  },
  "nbformat": 4,
  "nbformat_minor": 0
}